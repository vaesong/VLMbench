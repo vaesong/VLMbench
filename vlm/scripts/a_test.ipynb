{
 "cells": [
  {
   "cell_type": "code",
   "execution_count": 3,
   "metadata": {},
   "outputs": [
    {
     "name": "stdout",
     "output_type": "stream",
     "text": [
      "tensor([[1, 2, 5, 4],\n",
      "        [1, 2, 3, 4],\n",
      "        [2, 2, 3, 4]])\n"
     ]
    }
   ],
   "source": [
    "import torch\n",
    "T1 = torch.tensor([1,2,5,4]).unsqueeze_(0)\n",
    "T2 = torch.tensor([1,2,3,4]).unsqueeze_(0)\n",
    "T3 = torch.tensor([2,2,3,4]).unsqueeze_(0)\n",
    "a = []\n",
    "a.append(T1)\n",
    "a.append(T2)\n",
    "a.append(T3)\n",
    "\n",
    "c = torch.cat(a,dim=0)\n",
    "print(c)"
   ]
  }
 ],
 "metadata": {
  "kernelspec": {
   "display_name": "Python 3.7.13 ('vlm')",
   "language": "python",
   "name": "python3"
  },
  "language_info": {
   "codemirror_mode": {
    "name": "ipython",
    "version": 3
   },
   "file_extension": ".py",
   "mimetype": "text/x-python",
   "name": "python",
   "nbconvert_exporter": "python",
   "pygments_lexer": "ipython3",
   "version": "3.7.13"
  },
  "orig_nbformat": 4,
  "vscode": {
   "interpreter": {
    "hash": "3542ad3b1ff112b55c7230e39c0c90de8a7ce73ea210b1d3e963edaeb74c7bf6"
   }
  }
 },
 "nbformat": 4,
 "nbformat_minor": 2
}
