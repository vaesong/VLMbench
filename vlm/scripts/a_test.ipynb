{
 "cells": [
  {
   "cell_type": "code",
   "execution_count": 3,
   "metadata": {},
   "outputs": [
    {
     "name": "stdout",
     "output_type": "stream",
     "text": [
      "tensor([[1, 2, 5, 4],\n",
      "        [1, 2, 3, 4],\n",
      "        [2, 2, 3, 4]])\n"
     ]
    }
   ],
   "source": [
    "import torch\n",
    "T1 = torch.tensor([1,2,5,4]).unsqueeze_(0)\n",
    "T2 = torch.tensor([1,2,3,4]).unsqueeze_(0)\n",
    "T3 = torch.tensor([2,2,3,4]).unsqueeze_(0)\n",
    "a = []\n",
    "a.append(T1)\n",
    "a.append(T2)\n",
    "a.append(T3)\n",
    "\n",
    "c = torch.cat(a,dim=0)\n",
    "print(c)"
   ]
  },
  {
   "cell_type": "code",
   "execution_count": 2,
   "metadata": {},
   "outputs": [
    {
     "name": "stdout",
     "output_type": "stream",
     "text": [
      "[8, 8]\n"
     ]
    }
   ],
   "source": [
    "import numpy as np\n",
    "a=[8]*2\n",
    "\n",
    "print(a)"
   ]
  },
  {
   "cell_type": "markdown",
   "metadata": {},
   "source": []
  },
  {
   "cell_type": "code",
   "execution_count": 3,
   "metadata": {},
   "outputs": [
    {
     "name": "stdout",
     "output_type": "stream",
     "text": [
      "[-5 -4 -3 -2 -1  0  1  2  3  4  5]\n",
      "[-3 -3 -3 -2 -1  0  1  2  2  2  2]\n"
     ]
    }
   ],
   "source": [
    "import numpy as np\n",
    "dat = np.array([i for i in range(-5, 6)])\n",
    "print(dat)\n",
    "dat = np.clip(dat, -3, 2)\n",
    "print(dat)"
   ]
  },
  {
   "cell_type": "code",
   "execution_count": 9,
   "metadata": {},
   "outputs": [
    {
     "name": "stdout",
     "output_type": "stream",
     "text": [
      "tensor([[[1., 1.],\n",
      "         [1., 1.],\n",
      "         [1., 1.],\n",
      "         [1., 1.],\n",
      "         [1., 1.]],\n",
      "\n",
      "        [[1., 1.],\n",
      "         [1., 1.],\n",
      "         [1., 1.],\n",
      "         [1., 1.],\n",
      "         [1., 1.]]])\n",
      "torch.Size([2, 2])\n",
      "torch.Size([2, 1, 2])\n"
     ]
    }
   ],
   "source": [
    "import torch\n",
    "a=torch.ones(2,5,2)\n",
    "print(a)\n",
    "print(a[:,1,:].shape)\n",
    "print(a[:,:1,:].shape)\n",
    "\n"
   ]
  },
  {
   "cell_type": "code",
   "execution_count": 9,
   "metadata": {},
   "outputs": [
    {
     "name": "stdout",
     "output_type": "stream",
     "text": [
      "left_shoulder\n"
     ]
    }
   ],
   "source": [
    "a: tuple = (\"wrist\", \"left_shoulder\", \"right_shoulder\")\n",
    "print(a[1])"
   ]
  }
 ],
 "metadata": {
  "kernelspec": {
   "display_name": "Python 3.7.13 ('vlm')",
   "language": "python",
   "name": "python3"
  },
  "language_info": {
   "codemirror_mode": {
    "name": "ipython",
    "version": 3
   },
   "file_extension": ".py",
   "mimetype": "text/x-python",
   "name": "python",
   "nbconvert_exporter": "python",
   "pygments_lexer": "ipython3",
   "version": "3.7.13"
  },
  "orig_nbformat": 4,
  "vscode": {
   "interpreter": {
    "hash": "3542ad3b1ff112b55c7230e39c0c90de8a7ce73ea210b1d3e963edaeb74c7bf6"
   }
  }
 },
 "nbformat": 4,
 "nbformat_minor": 2
}
