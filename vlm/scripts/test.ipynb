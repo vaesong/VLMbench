{
 "cells": [
  {
   "cell_type": "code",
   "execution_count": 24,
   "metadata": {},
   "outputs": [
    {
     "name": "stdout",
     "output_type": "stream",
     "text": [
      "torch.Size([12, 2048])\n",
      "torch.Size([12, 128])\n",
      "torch.Size([12, 2048])\n",
      "torch.Size([12, 128])\n",
      "torch.Size([12, 2048])\n",
      "torch.Size([12, 128])\n",
      "torch.Size([12, 2048])\n",
      "torch.Size([12, 128])\n",
      "torch.Size([12, 2048])\n",
      "torch.Size([12, 128])\n",
      "torch.Size([12, 2048])\n",
      "torch.Size([12, 128])\n",
      "torch.Size([12, 2048])\n",
      "torch.Size([12, 128])\n",
      "torch.Size([12, 2048])\n",
      "torch.Size([12, 128])\n"
     ]
    }
   ],
   "source": [
    "import torch\n",
    "candidate_feat=torch.zeros([8,12,2176],dtype=torch.float)\n",
    "img = torch.ones([8,12,2048],dtype=torch.float)\n",
    "action_feats = torch.ones([8,12,8],dtype=torch.float)\n",
    "for i in range(8):\n",
    "        rgb = img[i]\n",
    "        action_feat = action_feats[i].repeat(1,16)\n",
    "        print(rgb.shape)\n",
    "        print(action_feat.shape) \n",
    "        #repeat 8 dim action 16times to 128\n",
    "        img_feat = torch.cat([rgb,action_feat],dim =1)\n",
    "        candidate_feat[i] = img_feat    "
   ]
  },
  {
   "cell_type": "code",
   "execution_count": 25,
   "metadata": {},
   "outputs": [
    {
     "data": {
      "text/plain": [
       "torch.Size([8, 12, 2176])"
      ]
     },
     "execution_count": 25,
     "metadata": {},
     "output_type": "execute_result"
    }
   ],
   "source": [
    "candidate_feat.shape"
   ]
  }
 ],
 "metadata": {
  "kernelspec": {
   "display_name": "vlm",
   "language": "python",
   "name": "python3"
  },
  "language_info": {
   "codemirror_mode": {
    "name": "ipython",
    "version": 3
   },
   "file_extension": ".py",
   "mimetype": "text/x-python",
   "name": "python",
   "nbconvert_exporter": "python",
   "pygments_lexer": "ipython3",
   "version": "3.7.13"
  },
  "orig_nbformat": 4,
  "vscode": {
   "interpreter": {
    "hash": "3542ad3b1ff112b55c7230e39c0c90de8a7ce73ea210b1d3e963edaeb74c7bf6"
   }
  }
 },
 "nbformat": 4,
 "nbformat_minor": 2
}
