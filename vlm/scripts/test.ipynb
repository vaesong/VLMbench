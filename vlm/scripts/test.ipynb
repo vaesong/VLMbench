{
 "cells": [
  {
   "cell_type": "code",
   "execution_count": 3,
   "metadata": {},
   "outputs": [
    {
     "name": "stdout",
     "output_type": "stream",
     "text": [
      "['b', 'c']\n"
     ]
    }
   ],
   "source": [
    "a=[\"a\"]\n",
    "b=[\"a\",\"b\",\"c\"]\n",
    "print(list(set(a)^set(b)))"
   ]
  }
 ],
 "metadata": {
  "kernelspec": {
   "display_name": "vlm",
   "language": "python",
   "name": "python3"
  },
  "language_info": {
   "codemirror_mode": {
    "name": "ipython",
    "version": 3
   },
   "file_extension": ".py",
   "mimetype": "text/x-python",
   "name": "python",
   "nbconvert_exporter": "python",
   "pygments_lexer": "ipython3",
   "version": "3.7.13"
  },
  "orig_nbformat": 4,
  "vscode": {
   "interpreter": {
    "hash": "3542ad3b1ff112b55c7230e39c0c90de8a7ce73ea210b1d3e963edaeb74c7bf6"
   }
  }
 },
 "nbformat": 4,
 "nbformat_minor": 2
}
