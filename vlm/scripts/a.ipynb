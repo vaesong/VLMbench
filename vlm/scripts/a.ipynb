{
 "cells": [
  {
   "cell_type": "code",
   "execution_count": 2,
   "metadata": {},
   "outputs": [],
   "source": [
    "from pathlib import Path\n",
    "import os\n",
    "import re\n",
    "\n",
    "dataset_path = Path(\"/home/liuchang/DATA/rlbench_data/train_single_variation\")\n",
    "for path in dataset_path.rglob('low_dim_obs*'):\n",
    "    path = path.relative_to(dataset_path)\n",
    "    episode = (os.path.split(path.parents[0]))[-1]\n",
    "    list_number = re.findall(r\"\\d+\",episode)\n",
    "    # print(int(list_number[0]))\n"
   ]
  },
  {
   "cell_type": "code",
   "execution_count": 1,
   "metadata": {},
   "outputs": [
    {
     "name": "stdout",
     "output_type": "stream",
     "text": [
      "<class 'torch.device'>\n"
     ]
    }
   ],
   "source": [
    "import torch\n",
    "device = torch.device(0)\n",
    "print(type(device))"
   ]
  },
  {
   "cell_type": "code",
   "execution_count": 9,
   "metadata": {},
   "outputs": [
    {
     "name": "stdout",
     "output_type": "stream",
     "text": [
      "<class 'pathlib.PosixPath'>\n",
      "/home/liuchang/projects/VLMbench/VLMbench/hiverformer/data_gen/keyframe\n",
      "<class 'pathlib.PosixPath'>\n"
     ]
    }
   ],
   "source": [
    "from pathlib import Path\n",
    "import os\n",
    "train_dir = Path(\"/home/liuchang/projects/VLMbench/VLMbench/hiverformer/data_gen\")\n",
    "print(type(train_dir))\n",
    "train_dir = train_dir/\"keyframe\"\n",
    "print(train_dir)\n",
    "print(type(train_dir))"
   ]
  },
  {
   "cell_type": "code",
   "execution_count": 4,
   "metadata": {},
   "outputs": [
    {
     "name": "stdout",
     "output_type": "stream",
     "text": [
      "[0.0078125]\n",
      "(1,)\n"
     ]
    }
   ],
   "source": [
    "import torch\n",
    "import numpy as np\n",
    "obs = np.ndarray(int(True))\n",
    "print(obs)\n",
    "print(obs.shape)"
   ]
  }
 ],
 "metadata": {
  "kernelspec": {
   "display_name": "Python 3.7.13 ('vlm')",
   "language": "python",
   "name": "python3"
  },
  "language_info": {
   "codemirror_mode": {
    "name": "ipython",
    "version": 3
   },
   "file_extension": ".py",
   "mimetype": "text/x-python",
   "name": "python",
   "nbconvert_exporter": "python",
   "pygments_lexer": "ipython3",
   "version": "3.7.13"
  },
  "orig_nbformat": 4,
  "vscode": {
   "interpreter": {
    "hash": "3542ad3b1ff112b55c7230e39c0c90de8a7ce73ea210b1d3e963edaeb74c7bf6"
   }
  }
 },
 "nbformat": 4,
 "nbformat_minor": 2
}
